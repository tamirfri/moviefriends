{
 "cells": [
  {
   "cell_type": "code",
   "execution_count": 1,
   "metadata": {},
   "outputs": [
    {
     "data": {
      "text/plain": [
       "(-2, 2)"
      ]
     },
     "execution_count": 1,
     "metadata": {},
     "output_type": "execute_result"
    }
   ],
   "source": [
    "from surprise import accuracy, BaselineOnly, Dataset, SVD, Reader\n",
    "from surprise.model_selection import cross_validate, KFold\n",
    "\n",
    "# path to dataset file\n",
    "file_path = 'ml-1m/ratings_timesorted.dat'\n",
    "\n",
    "# As we're loading a custom dataset, we need to define a reader. In the\n",
    "# movielens-100k dataset, each line has the following format:\n",
    "# 'user item rating timestamp', separated by '\\t' characters.\n",
    "reader = Reader(line_format='user item rating timestamp', sep='::', rating_scale=(-2, 2))\n",
    "\n",
    "trainset = Dataset.load_from_file(file_path, reader).build_full_trainset()\n",
    "#trainset = Dataset.load_builtin('ml-1m').build_full_trainset()\n",
    "testset = trainset.build_testset()"
   ]
  },
  {
   "cell_type": "code",
   "execution_count": 27,
   "metadata": {},
   "outputs": [
    {
     "name": "stdout",
     "output_type": "stream",
     "text": [
      "RMSE: 1.2594\n"
     ]
    },
    {
     "data": {
      "text/plain": [
       "1.2594175234241636"
      ]
     },
     "execution_count": 27,
     "metadata": {},
     "output_type": "execute_result"
    }
   ],
   "source": [
    "algo = SVD(n_factors=8, biased=False, init_std_dev=0.1, n_epochs=100, reg_all=0.005, lr_all=0.005)\n",
    "algo.fit(trainset)\n",
    "predictions = algo.test(testset)\n",
    "# RMSE should be low as we are biased\n",
    "accuracy.rmse(predictions, verbose=True)  # ~ 0.68 (which is low)"
   ]
  },
  {
   "cell_type": "code",
   "execution_count": null,
   "metadata": {},
   "outputs": [],
   "source": [
    "# We can now use this dataset as we please, e.g. calling cross_validate\n",
    "cross_validate(BaselineOnly(), data, verbose=True)\n",
    "\n",
    "# We can also do this during a cross-validation procedure!\n",
    "print('CV procedure:')\n",
    "\n",
    "kf = KFold(n_splits=3)\n",
    "for i, (trainset_cv, testset_cv) in enumerate(kf.split(data)):\n",
    "    print('fold number', i + 1)\n",
    "    algo.fit(trainset_cv)\n",
    "\n",
    "    print('On testset,', end='  ')\n",
    "    predictions = algo.test(testset_cv)\n",
    "    accuracy.rmse(predictions, verbose=True)\n",
    "\n",
    "    print('On trainset,', end=' ')\n",
    "    predictions = algo.test(trainset_cv.build_testset())\n",
    "    accuracy.rmse(predictions, verbose=True)"
   ]
  }
 ],
 "metadata": {
  "kernelspec": {
   "display_name": "Python 3",
   "language": "python",
   "name": "python3"
  },
  "language_info": {
   "codemirror_mode": {
    "name": "ipython",
    "version": 3
   },
   "file_extension": ".py",
   "mimetype": "text/x-python",
   "name": "python",
   "nbconvert_exporter": "python",
   "pygments_lexer": "ipython3",
   "version": "3.8.2"
  }
 },
 "nbformat": 4,
 "nbformat_minor": 4
}
