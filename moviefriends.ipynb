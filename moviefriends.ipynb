{
 "cells": [
  {
   "cell_type": "code",
   "execution_count": 1,
   "metadata": {},
   "outputs": [],
   "source": [
    "from pyspark.sql import SparkSession, Row\n",
    "from pyspark.sql.utils import AnalysisException\n",
    "from pyspark.sql.functions import split, col, sum\n",
    "from pyspark.sql.types import StructType, StructField, IntegerType, FloatType, StringType\n",
    "from pyspark.ml.evaluation import RegressionEvaluator\n",
    "from pyspark.ml.recommendation import ALS\n",
    "from pyspark.ml.feature import Binarizer, Normalizer, VectorAssembler\n",
    "from pyspark.ml.linalg import DenseVector\n",
    "\n",
    "spark = SparkSession.builder.appName('ALSExample').getOrCreate()\n",
    "\n",
    "ratingSchema = StructType(( StructField('user', IntegerType(), False),\n",
    "                            StructField('item', IntegerType(), False),\n",
    "                            StructField('rating', FloatType(), False) ))\n",
    "\n",
    "userSchema = StructType(( StructField('user', IntegerType(), False),\n",
    "                          StructField('gender', IntegerType(), False),\n",
    "                          StructField('age', IntegerType(), False) ))\n",
    "\n",
    "itemSchema = StructType(( StructField('item', IntegerType(), False),\n",
    "                          StructField('title', StringType(), False) ))"
   ]
  },
  {
   "cell_type": "code",
   "execution_count": 63,
   "metadata": {},
   "outputs": [],
   "source": [
    "# Read data\n",
    "ratings = spark.read.csv('ml-1m/ratings_timesorted.dat', ratingSchema, '::')\n",
    "users = spark.read.csv('ml-1m/users_binarygender.dat', userSchema, '::')\n",
    "items = spark.read.csv('ml-1m/movies.dat', itemSchema, '::')\n",
    "\n",
    "#training, test = ratings.randomSplit((0.95, 0.05))\n",
    "\n",
    "# Build the recommendation model using ALS on the training data\n",
    "# Note we set cold start strategy to 'drop' to ensure we don't get NaN evaluation metrics\n",
    "als = ALS(rank=8, maxIter=20, regParam=0.005, nonnegative=False, numUserBlocks=4, numItemBlocks=4)"
   ]
  },
  {
   "cell_type": "code",
   "execution_count": 64,
   "metadata": {},
   "outputs": [],
   "source": [
    "#model = als.fit(training)\n",
    "model = als.fit(ratings)"
   ]
  },
  {
   "cell_type": "code",
   "execution_count": 65,
   "metadata": {},
   "outputs": [
    {
     "name": "stdout",
     "output_type": "stream",
     "text": [
      "Root-mean-square error = 0.7762990224592068\n"
     ]
    }
   ],
   "source": [
    "# Evaluate the model by computing the RMSE on the test data\n",
    "#predictions = model.transform(test)\n",
    "predictions = model.transform(ratings)\n",
    "evaluator = RegressionEvaluator(labelCol='rating')\n",
    "rmse = evaluator.evaluate(predictions)\n",
    "print(\"Root-mean-square error =\", rmse)"
   ]
  },
  {
   "cell_type": "code",
   "execution_count": 49,
   "metadata": {},
   "outputs": [
    {
     "name": "stdout",
     "output_type": "stream",
     "text": [
      "+----+----+------+-------------+\n",
      "|user|item|rating|   prediction|\n",
      "+----+----+------+-------------+\n",
      "|  53| 148|   2.0|     1.189728|\n",
      "| 673| 148|   2.0|     1.184251|\n",
      "|4169| 148|   0.0| -0.009268612|\n",
      "|4227| 148|  -1.0|    -2.607967|\n",
      "|5333| 148|   0.0|  -0.17176326|\n",
      "|3184| 148|   1.0|  0.033986837|\n",
      "|4387| 148|  -2.0|  -0.64815944|\n",
      "|4784| 148|   0.0|    0.6079085|\n",
      "|2383| 148|  -1.0|  -0.17862234|\n",
      "|1242| 148|   0.0| -0.022532284|\n",
      "|3539| 148|   0.0|   0.41909608|\n",
      "|1069| 148|  -1.0|   0.11546504|\n",
      "|1605| 148|  -1.0|   -0.3939552|\n",
      "| 840| 148|  -2.0|   -0.8237774|\n",
      "| 216| 148|  -1.0|  -0.36422893|\n",
      "| 482| 148|  -1.0|-0.0028511211|\n",
      "| 752| 148|   1.0|    0.3757552|\n",
      "|1150| 148|  -1.0|  -0.23748167|\n",
      "|3829| 148|  -1.0|   -0.5319092|\n",
      "| 424| 148|   1.0|   0.04847695|\n",
      "+----+----+------+-------------+\n",
      "only showing top 20 rows\n",
      "\n"
     ]
    }
   ],
   "source": [
    "predictions.show()"
   ]
  },
  {
   "cell_type": "code",
   "execution_count": 50,
   "metadata": {},
   "outputs": [
    {
     "name": "stdout",
     "output_type": "stream",
     "text": [
      "6040\n",
      "+---------+-----+\n",
      "|partition|count|\n",
      "+---------+-----+\n",
      "|       84|    1|\n",
      "|      114|    1|\n",
      "|      238|    1|\n",
      "|      176|    1|\n",
      "|      173|    1|\n",
      "|      165|    1|\n",
      "|       41|    1|\n",
      "|       37|    1|\n",
      "|      231|    1|\n",
      "|      168|    1|\n",
      "|      220|    1|\n",
      "|      227|    1|\n",
      "|       34|    1|\n",
      "|      182|    1|\n",
      "|       96|    1|\n",
      "|      117|    1|\n",
      "|      132|    1|\n",
      "|       76|    1|\n",
      "|      246|    1|\n",
      "|      122|    1|\n",
      "+---------+-----+\n",
      "only showing top 20 rows\n",
      "\n",
      "+---------+-----+\n",
      "|partition|count|\n",
      "+---------+-----+\n",
      "|      157|  620|\n",
      "|      159|  411|\n",
      "|      151|  317|\n",
      "|      215|  262|\n",
      "|      155|  238|\n",
      "|       29|  203|\n",
      "|      149|  202|\n",
      "|      147|  192|\n",
      "|      153|  183|\n",
      "|       31|  173|\n",
      "|      211|  162|\n",
      "|      223|  137|\n",
      "|       27|  119|\n",
      "|       23|  111|\n",
      "|      219|  107|\n",
      "|       83|   84|\n",
      "|       19|   84|\n",
      "|       25|   82|\n",
      "|       91|   81|\n",
      "|       95|   80|\n",
      "+---------+-----+\n",
      "only showing top 20 rows\n",
      "\n"
     ]
    }
   ],
   "source": [
    "print(model.userFactors.count())\n",
    "assert model.userFactors.count() == users.count() # true\n",
    "fusers = model.userFactors.selectExpr('*', # id: int, features: array<float>\n",
    "    'transform(features, x->float(x/sqrt(aggregate(transform(features, x->x*x), float(0), (s,x)->s+x)))) as norm_features',\n",
    "    'float(sqrt(aggregate(transform(features, x->x*x), float(0), (s,x)->s+x))) as norm',\n",
    "    'transform(features, x->int(x>0)) as bin_arr',\n",
    "    'aggregate(transform(features, x->int(x>0)), 0, (a,x)->shiftleft(a,1)+x) as partition')\n",
    "\n",
    "fusers.groupby('partition').count().sort('count').show()\n",
    "fusers.groupby('partition').count().sort('count', ascending=False).show()"
   ]
  },
  {
   "cell_type": "code",
   "execution_count": 51,
   "metadata": {},
   "outputs": [
    {
     "name": "stdout",
     "output_type": "stream",
     "text": [
      "+---+--------------------+\n",
      "| id|            features|\n",
      "+---+--------------------+\n",
      "| 10|[0.6651825, -0.93...|\n",
      "| 20|[0.104887925, -0....|\n",
      "| 30|[-0.585375, -0.46...|\n",
      "| 40|[0.047282364, 0.0...|\n",
      "| 50|[0.7905751, -0.76...|\n",
      "| 60|[0.53856766, -1.4...|\n",
      "| 70|[0.4566475, -0.49...|\n",
      "| 80|[-0.4555481, -1.5...|\n",
      "| 90|[-0.30143672, 0.0...|\n",
      "|100|[0.95588344, 0.13...|\n",
      "|110|[0.41917062, -0.5...|\n",
      "|120|[-1.1208363, 0.85...|\n",
      "|130|[-0.24234508, 0.1...|\n",
      "|140|[1.7980086, 0.123...|\n",
      "|150|[0.3380763, -0.95...|\n",
      "|160|[0.86701286, -1.0...|\n",
      "|170|[0.38731375, -0.4...|\n",
      "|180|[-0.52567625, -0....|\n",
      "|190|[0.31519017, -0.3...|\n",
      "|200|[-0.5407522, -0.6...|\n",
      "+---+--------------------+\n",
      "only showing top 20 rows\n",
      "\n"
     ]
    },
    {
     "data": {
      "text/plain": [
       "[Row(id=10, features=[0.6651824712753296, -0.9377222657203674, -0.37672102451324463, 0.588722825050354, 1.2778269052505493, 0.5031376481056213, -0.7216995358467102, 1.384491205215454]),\n",
       " Row(id=20, features=[0.10488792508840561, -0.204710453748703, -1.5924307107925415, 0.5988529920578003, 0.7721832990646362, 0.3685716390609741, -0.5720065832138062, 0.9694386720657349]),\n",
       " Row(id=30, features=[-0.5853750109672546, -0.46003457903862, -0.34607887268066406, 0.04201498255133629, 0.6973044276237488, -0.04515616223216057, 0.2587907314300537, 0.508955180644989])]"
      ]
     },
     "execution_count": 51,
     "metadata": {},
     "output_type": "execute_result"
    }
   ],
   "source": [
    "model.userFactors.show()\n",
    "model.userFactors.head(3)"
   ]
  },
  {
   "cell_type": "code",
   "execution_count": 52,
   "metadata": {},
   "outputs": [],
   "source": [
    "# Generate top 10 movie recommendations for each user\n",
    "userRecs = model.recommendForAllUsers(10)\n",
    "# Generate top 10 user recommendations for each movie\n",
    "movieRecs = model.recommendForAllItems(10)\n",
    "\n",
    "# Generate top 10 movie recommendations for a specified set of users\n",
    "users = ratings.select(als.getUserCol()).distinct().limit(3)\n",
    "userSubsetRecs = model.recommendForUserSubset(users, 10)\n",
    "# Generate top 10 user recommendations for a specified set of movies\n",
    "movies = ratings.select(als.getItemCol()).distinct().limit(3)\n",
    "movieSubSetRecs = model.recommendForItemSubset(movies, 10)"
   ]
  },
  {
   "cell_type": "code",
   "execution_count": 53,
   "metadata": {},
   "outputs": [
    {
     "name": "stdout",
     "output_type": "stream",
     "text": [
      "+----+--------------------+\n",
      "|user|     recommendations|\n",
      "+----+--------------------+\n",
      "|1580|[[2705, 4.6829414...|\n",
      "|4900|[[1567, 13.155405...|\n",
      "|5300|[[3012, 4.175614]...|\n",
      "| 471|[[106, 4.116742],...|\n",
      "|1591|[[2964, 5.1865582...|\n",
      "|4101|[[1539, 8.265969]...|\n",
      "|1342|[[614, 3.5433302]...|\n",
      "|2122|[[2765, 4.835989]...|\n",
      "|2142|[[1567, 6.1453977...|\n",
      "| 463|[[632, 4.4248056]...|\n",
      "| 833|[[2998, 5.3107677...|\n",
      "|5803|[[3636, 11.271729...|\n",
      "|3794|[[811, 5.978745],...|\n",
      "|1645|[[2933, 7.141486]...|\n",
      "|3175|[[2192, 7.75389],...|\n",
      "|4935|[[2705, 8.246386]...|\n",
      "| 496|[[1420, 6.2241726...|\n",
      "|2366|[[1930, 4.7507305...|\n",
      "|2866|[[3184, 4.9383516...|\n",
      "|5156|[[2192, 8.229196]...|\n",
      "+----+--------------------+\n",
      "only showing top 20 rows\n",
      "\n"
     ]
    }
   ],
   "source": [
    "userRecs.show()"
   ]
  },
  {
   "cell_type": "code",
   "execution_count": 10,
   "metadata": {},
   "outputs": [
    {
     "name": "stdout",
     "output_type": "stream",
     "text": [
      "+----+--------------------+\n",
      "|item|     recommendations|\n",
      "+----+--------------------+\n",
      "|1580|[[283, 2.0554464]...|\n",
      "| 471|[[5529, 2.0453987...|\n",
      "|1591|[[283, 1.964103],...|\n",
      "|1342|[[1445, 2.046189]...|\n",
      "|2122|[[5670, 2.0586808...|\n",
      "|2142|[[101, 1.7309802]...|\n",
      "| 463|[[283, 2.1129339]...|\n",
      "| 833|[[1070, 1.3529685...|\n",
      "|3794|[[4751, 2.418365]...|\n",
      "|1645|[[283, 2.10782], ...|\n",
      "|3175|[[2037, 2.310983]...|\n",
      "| 496|[[1445, 2.523903]...|\n",
      "|2366|[[1535, 2.4748394...|\n",
      "|2866|[[2339, 1.8196274...|\n",
      "| 148|[[540, 3.1303573]...|\n",
      "|1088|[[2364, 2.4093258...|\n",
      "|1238|[[446, 2.1394424]...|\n",
      "|3918|[[46, 2.2402115],...|\n",
      "|1829|[[283, 1.8440673]...|\n",
      "|1959|[[2560, 1.983925]...|\n",
      "+----+--------------------+\n",
      "only showing top 20 rows\n",
      "\n"
     ]
    }
   ],
   "source": [
    "movieRecs.show()"
   ]
  },
  {
   "cell_type": "code",
   "execution_count": 11,
   "metadata": {},
   "outputs": [
    {
     "name": "stdout",
     "output_type": "stream",
     "text": [
      "+----+--------------------+\n",
      "|user|     recommendations|\n",
      "+----+--------------------+\n",
      "|5300|[[53, 2.377953], ...|\n",
      "|5803|[[887, 4.9874797]...|\n",
      "|5518|[[687, 1.9456208]...|\n",
      "+----+--------------------+\n",
      "\n"
     ]
    }
   ],
   "source": [
    "userSubsetRecs.show()"
   ]
  },
  {
   "cell_type": "code",
   "execution_count": 12,
   "metadata": {},
   "outputs": [
    {
     "name": "stdout",
     "output_type": "stream",
     "text": [
      "+----+--------------------+\n",
      "|item|     recommendations|\n",
      "+----+--------------------+\n",
      "| 471|[[5529, 2.0453987...|\n",
      "|3175|[[2037, 2.310983]...|\n",
      "|1088|[[2364, 2.4093258...|\n",
      "+----+--------------------+\n",
      "\n"
     ]
    }
   ],
   "source": [
    "movieSubSetRecs.show()"
   ]
  },
  {
   "cell_type": "code",
   "execution_count": null,
   "metadata": {},
   "outputs": [],
   "source": []
  },
  {
   "cell_type": "code",
   "execution_count": 13,
   "metadata": {},
   "outputs": [],
   "source": [
    "spark.stop()"
   ]
  },
  {
   "cell_type": "code",
   "execution_count": null,
   "metadata": {},
   "outputs": [],
   "source": []
  }
 ],
 "metadata": {
  "kernelspec": {
   "display_name": "Python 3",
   "language": "python",
   "name": "python3"
  },
  "language_info": {
   "codemirror_mode": {
    "name": "ipython",
    "version": 3
   },
   "file_extension": ".py",
   "mimetype": "text/x-python",
   "name": "python",
   "nbconvert_exporter": "python",
   "pygments_lexer": "ipython3",
   "version": "3.8.2"
  }
 },
 "nbformat": 4,
 "nbformat_minor": 4
}
